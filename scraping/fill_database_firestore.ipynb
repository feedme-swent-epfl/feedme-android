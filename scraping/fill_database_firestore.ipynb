{
 "cells": [
  {
   "cell_type": "code",
   "execution_count": null,
   "metadata": {},
   "outputs": [],
   "source": [
    "import firebase_admin\n",
    "from firebase_admin import credentials\n",
    "from firebase_admin import firestore\n",
    "import json\n",
    "\n",
    "# Path to Firebase credentials and the JSON file with ingredients\n",
    "cred_path = './firebase_credentials.json'\n",
    "json_path = './ingredients_with_labels.json'\n",
    "\n",
    "# Initialize Firebase\n",
    "cred = credentials.Certificate(cred_path)\n",
    "firebase_admin.initialize_app(cred)\n",
    "\n",
    "# Firestore client\n",
    "db = firestore.client()\n",
    "\n",
    "# Function to upload data to Firestore\n",
    "def upload_to_firestore(json_path):\n",
    "    with open(json_path, 'r') as file:\n",
    "        data = json.load(file)\n",
    "        for ingredient_name, properties in data.items():\n",
    "            # Creating a new document with a unique ID\n",
    "            doc_ref = db.collection('ingredients').document()\n",
    "            # Adding a 'name' property to the ingredient properties\n",
    "            properties['name'] = ingredient_name\n",
    "            doc_ref.set(properties)\n",
    "            print(f'Uploaded {ingredient_name}')\n",
    "\n",
    "# Run the function\n",
    "upload_to_firestore(json_path)"
   ]
  }
 ],
 "metadata": {
  "kernelspec": {
   "display_name": "Python 3",
   "language": "python",
   "name": "python3"
  },
  "language_info": {
   "codemirror_mode": {
    "name": "ipython",
    "version": 3
   },
   "file_extension": ".py",
   "mimetype": "text/x-python",
   "name": "python",
   "nbconvert_exporter": "python",
   "pygments_lexer": "ipython3",
   "version": "3.9.6"
  }
 },
 "nbformat": 4,
 "nbformat_minor": 2
}
