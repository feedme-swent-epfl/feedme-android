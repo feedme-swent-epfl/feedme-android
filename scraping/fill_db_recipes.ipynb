{
 "cells": [
  {
   "cell_type": "code",
   "execution_count": 10,
   "metadata": {},
   "outputs": [
    {
     "name": "stdout",
     "output_type": "stream",
     "text": [
      "Recipes uploaded successfully!\n"
     ]
    }
   ],
   "source": [
    "import json\n",
    "import firebase_admin\n",
    "from firebase_admin import credentials\n",
    "from firebase_admin import firestore\n",
    "\n",
    "# Initialize Firestore\n",
    "cred = credentials.Certificate('./firebase_credentials.json')\n",
    "recipes_file = './updated_recipes.json'\n",
    "\n",
    "# this line was commented because the initialize() function can only be ran once\n",
    "#firebase_admin.initialize_app(cred)\n",
    "\n",
    "# Firestore Client\n",
    "db = firestore.client()\n",
    "\n",
    "'''\n",
    "A function allowing us to upload a single recipe at a time from the .json file to the Firestore Database\n",
    "'''\n",
    "def upload_recipe(recipe):\n",
    "    recipe_ref = db.collection('recipes').document()\n",
    "    recipe_ref.set({\n",
    "        'description': recipe.get('description', 'No description provided'),\n",
    "        'imageUrl': recipe.get('imageUrl', 'No image provided'),\n",
    "        'ingredients': recipe.get('ingredients', []),\n",
    "        'rating': recipe.get('rating', 0),\n",
    "        'recipeId': recipe.get('recipeId', 'No ID provided'),\n",
    "        'steps': recipe.get('steps', []),\n",
    "        'tags': recipe.get('tags', []),\n",
    "        'title': recipe.get('title', 'No title provided'),\n",
    "        'userid': recipe.get('userid', 'No user ID')\n",
    "    })\n",
    "\n",
    "'''\n",
    "Looping on the .json file and uploading all the recipes it contains using the function defined abovementioned\n",
    "'''\n",
    "with open(recipes_file, 'r') as file:\n",
    "    recipes_data = json.load(file)\n",
    "    # Iterate over each recipe in the dictionary\n",
    "    for recipe_key in recipes_data:\n",
    "        recipe = recipes_data[recipe_key]\n",
    "        upload_recipe(recipe)\n",
    "\n",
    "\n",
    "print(\"Recipes uploaded successfully!\")"
   ]
  }
 ],
 "metadata": {
  "kernelspec": {
   "display_name": "Python 3",
   "language": "python",
   "name": "python3"
  },
  "language_info": {
   "codemirror_mode": {
    "name": "ipython",
    "version": 3
   },
   "file_extension": ".py",
   "mimetype": "text/x-python",
   "name": "python",
   "nbconvert_exporter": "python",
   "pygments_lexer": "ipython3",
   "version": "3.11.6"
  }
 },
 "nbformat": 4,
 "nbformat_minor": 2
}
