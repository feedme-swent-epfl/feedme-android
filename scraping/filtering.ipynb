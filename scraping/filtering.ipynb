{
 "cells": [
  {
   "cell_type": "code",
   "execution_count": 5,
   "metadata": {},
   "outputs": [],
   "source": [
    "import json\n",
    "import re\n",
    "\n",
    "def clean_ingredient(ingredient):\n",
    "    \"\"\"\n",
    "    Cleans the ingredient string by removing measurements, units, and optional descriptions.\n",
    "    \"\"\"\n",
    "    # Remove content in parentheses and various measurements and units\n",
    "    cleaned = re.sub(\n",
    "        r'\\(.*?\\)|\\d+|/|\\d+|\\b(?:teaspoon|tablespoon|cup|cups|grams|g|ml|ounce|ounces|'\n",
    "        r'pound|pounds|tbsp|tsp|lb|oz|kg|quart|liters|liter|dash|pinch|scoop|slices|'\n",
    "        r'slice|part|ea\\.|pkg\\.)\\b', '', ingredient, flags=re.IGNORECASE)\n",
    "    # Remove extra spaces and punctuation, and trim whitespace\n",
    "    cleaned = re.sub(r'[^a-zA-Z\\s]', '', cleaned).strip()\n",
    "    return cleaned\n",
    "\n",
    "def process_ingredients(input_file_path, output_file_path):\n",
    "    \"\"\"\n",
    "    Processes a list of ingredients by cleaning each entry and removing duplicates.\n",
    "    \"\"\"\n",
    "    with open(input_file_path, 'r') as file:\n",
    "        ingredients = json.load(file)\n",
    "\n",
    "    cleaned_ingredients = set(clean_ingredient(ing) for ing in ingredients if clean_ingredient(ing))\n",
    "\n",
    "    with open(output_file_path, 'w') as outfile:\n",
    "        json.dump(list(cleaned_ingredients), outfile, indent=4)\n",
    "\n",
    "input_path = './all_ingredients.json'\n",
    "output_path = './cleaned_ingredients_2.json'\n",
    "process_ingredients(input_path, output_path)\n"
   ]
  },
  {
   "cell_type": "code",
   "execution_count": null,
   "metadata": {},
   "outputs": [],
   "source": [
    "import json\n",
    "\n",
    "# Load the ingredients from the JSON file\n",
    "with open('cleaned_ingredients.json', 'r') as file:\n",
    "    ingredients = json.load(file)\n",
    "\n",
    "# Filter out empty elements and elements containing numbers\n",
    "filtered_ingredients = [ingredient for ingredient in ingredients if ingredient and not any(char.isdigit() for char in ingredient)]\n",
    "\n",
    "# Remove duplicates by converting the list to a set and back to a list\n",
    "unique_ingredients = list(set(filtered_ingredients))\n",
    "\n",
    "# Save the cleaned ingredients back to a JSON file\n",
    "with open('cleaned_ingredients_bis.json', 'w') as file:\n",
    "    json.dump(unique_ingredients, file, indent=4)\n",
    "\n",
    "print(\"Cleaning done\")"
   ]
  },
  {
   "cell_type": "code",
   "execution_count": null,
   "metadata": {},
   "outputs": [],
   "source": [
    "import json\n",
    "\n",
    "# Load the ingredients from the JSON file\n",
    "with open('cleaned_ingredients_bis_sorted_bis.json', 'r') as file:\n",
    "    ingredients = json.load(file)\n",
    "\n",
    "# Remove duplicates and sort alphabetically\n",
    "unique_sorted_ingredients = sorted(set(ingredients))\n",
    "\n",
    "# Save the cleaned ingredients back to a JSON file\n",
    "with open('final_ingredients_sorted.json', 'w') as file:\n",
    "    json.dump(unique_sorted_ingredients, file, indent=4)\n",
    "\n",
    "print(\"Sorted and unique ingredients have been saved to 'final_ingredients_sorted.json'\")"
   ]
  }
 ],
 "metadata": {
  "kernelspec": {
   "display_name": "Python 3",
   "language": "python",
   "name": "python3"
  },
  "language_info": {
   "codemirror_mode": {
    "name": "ipython",
    "version": 3
   },
   "file_extension": ".py",
   "mimetype": "text/x-python",
   "name": "python",
   "nbconvert_exporter": "python",
   "pygments_lexer": "ipython3",
   "version": "3.9.6"
  }
 },
 "nbformat": 4,
 "nbformat_minor": 2
}
