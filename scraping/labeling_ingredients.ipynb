{
 "cells": [
  {
   "cell_type": "markdown",
   "metadata": {},
   "source": [
    "### ADDING LABEL TO INGREDIENTS USING PYFOOD\n",
    "#### Demo Code\n",
    "Pyfood is a library used to gain some information about an ingredient, it can detect if a food is vegan or vege <br>\n",
    "We will try to use it to add some label to our `final_ingredients_sorted.json` <br>\n",
    "Let's see, on a simple example \"meat\", what valuable information we can get."
   ]
  },
  {
   "cell_type": "code",
   "execution_count": null,
   "metadata": {},
   "outputs": [],
   "source": [
    "\n",
    "from pyfood.utils import Shelf\n",
    "\n",
    "# Initialize Pyfood to load the dataset\n",
    "shelf = Shelf(region='France', month_id=1)\n",
    "\n",
    "\n",
    "# Example list of ingredients\n",
    "ingredients = [\"meat\"]\n",
    "\n",
    "results = shelf.process_ingredients(ingredients)\n",
    "# Categorize each ingredient\n",
    "\n",
    "\n",
    "# Print or save the categorized ingredients\n",
    "print(results)\n"
   ]
  },
  {
   "cell_type": "markdown",
   "metadata": {},
   "source": [
    "#### FULL CODE\n",
    "\n",
    "Take the json of the scrapped ingredients names, and produce another json with information wheter an ingredient is vegan and vege. <br>\n",
    "Hence we will add that information to our resulting json for each ingredient <br>\n",
    "This is done using a library call Pyfood, quite usefull!\n",
    "\n"
   ]
  },
  {
   "cell_type": "code",
   "execution_count": null,
   "metadata": {},
   "outputs": [],
   "source": [
    "import json\n",
    "from pyfood.utils import Shelf\n",
    "\n",
    "# Example usage\n",
    "input_json = 'final_ingredients_sorted.json'  # Path to your input JSON file\n",
    "output_json = 'ingredientsWithLabel.json'  # Path to your output JSON file\n",
    "\n",
    "# Initialize the Shelf from pyfood\n",
    "shelf = Shelf(region='France', month_id=0)"
   ]
  },
  {
   "cell_type": "code",
   "execution_count": null,
   "metadata": {},
   "outputs": [],
   "source": [
    "# Load ingredients from a JSON file\n",
    "def load_ingredients(json_file):\n",
    "    with open(json_file, 'r') as file:\n",
    "        data = json.load(file)\n",
    "    return data\n",
    "\n",
    "\n",
    "\n",
    "# Save the dietary information to a JSON file\n",
    "def save_to_json(data, filename):\n",
    "    with open(filename, 'w') as file:\n",
    "        json.dump(data, file, indent=4)\n"
   ]
  },
  {
   "cell_type": "code",
   "execution_count": null,
   "metadata": {},
   "outputs": [],
   "source": [
    "# Process each ingredient and determine if it is vegan or vegetarian\n",
    "def process_ingredients(ingredients):\n",
    "    # Get the results from the Shelf\n",
    "    \n",
    "    dietary_info = {}\n",
    "    \n",
    "    # Extract dietary labels for each processed ingredient\n",
    "    for item in ingredients:\n",
    "        results = shelf.process_ingredients([item])\n",
    "\n",
    "        if results is None:\n",
    "            print(f\"Unable to process ingredient: {item}\")\n",
    "            continue\n",
    "        \n",
    "        dietary_info[item] = {\n",
    "            'vegan': results['labels']['vegan'],\n",
    "            'vegetarian': results['labels']['vege']\n",
    "        }\n",
    "\n",
    "    return dietary_info\n"
   ]
  },
  {
   "cell_type": "code",
   "execution_count": null,
   "metadata": {},
   "outputs": [],
   "source": [
    "# Load the ingredients from JSON\n",
    "ingredients = load_ingredients(input_json)\n",
    "\n",
    "# Process the ingredients to get dietary info\n",
    "dietary_info = process_ingredients(ingredients)\n",
    "\n",
    "# Save the results to a new JSON file\n",
    "save_to_json(dietary_info, output_json)"
   ]
  }
 ],
 "metadata": {
  "kernelspec": {
   "display_name": "Python 3",
   "language": "python",
   "name": "python3"
  },
  "language_info": {
   "codemirror_mode": {
    "name": "ipython",
    "version": 3
   },
   "file_extension": ".py",
   "mimetype": "text/x-python",
   "name": "python",
   "nbconvert_exporter": "python",
   "pygments_lexer": "ipython3",
   "version": "3.10.12"
  }
 },
 "nbformat": 4,
 "nbformat_minor": 2
}
