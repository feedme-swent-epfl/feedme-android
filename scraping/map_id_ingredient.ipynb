{
 "cells": [
  {
   "cell_type": "markdown",
   "metadata": {},
   "source": [
    "This part of the notebook extracts the ID of each ingredient in our Firebase database and maps it to the ingredient name"
   ]
  },
  {
   "cell_type": "code",
   "execution_count": null,
   "metadata": {},
   "outputs": [],
   "source": [
    "import firebase_admin\n",
    "from firebase_admin import credentials\n",
    "from firebase_admin import firestore\n",
    "import json\n",
    "\n",
    "# Path to Firebase credentials and the output JSON file for the ingredient ID mapping\n",
    "cred_path = './firebase_credentials.json'\n",
    "output_json_path = './ingredient_id_mapping.json'\n",
    "\n",
    "# Initialize Firebase\n",
    "cred = credentials.Certificate(cred_path)\n",
    "firebase_admin.initialize_app(cred)\n",
    "\n",
    "# Firestore client\n",
    "db = firestore.client()\n",
    "\n",
    "def extract_and_save_ingredient_ids():\n",
    "    ingredient_id_map = {}\n",
    "    # Retrieve documents from the 'ingredients' collection\n",
    "    ingredients = db.collection('ingredients').stream()\n",
    "    for ingredient in ingredients:\n",
    "        # Map the document ID to the ingredient name\n",
    "        ingredient_id_map[ingredient.id] = ingredient.to_dict().get('name')\n",
    "    \n",
    "    # Write the ID mapping to a JSON file\n",
    "    with open(output_json_path, 'w') as json_file:\n",
    "        json.dump(ingredient_id_map, json_file, indent=4)\n",
    "\n",
    "    print(\"Ingredient IDs have been mapped and saved to JSON.\")\n",
    "\n",
    "# Run the function\n",
    "extract_and_save_ingredient_ids()"
   ]
  },
  {
   "cell_type": "markdown",
   "metadata": {},
   "source": [
    "This part of the notebook adds to each recipe a list which contains a list of curated ingredients (without the measurments) using the list of all ingredients"
   ]
  },
  {
   "cell_type": "code",
   "execution_count": null,
   "metadata": {},
   "outputs": [],
   "source": [
    "import json\n",
    "\n",
    "# Load the curated ingredients list\n",
    "with open('./final_ingredients_sorted.json', 'r') as file:\n",
    "    curated_ingredients = json.load(file)\n",
    "    curated_ingredients_set = set(ingredient.lower() for ingredient in curated_ingredients)\n",
    "\n",
    "# Load the recipes\n",
    "with open('./recipes.json', 'r') as file:\n",
    "    recipes = json.load(file)\n",
    "\n",
    "# Helper function to normalize text\n",
    "def normalize(text):\n",
    "    # Convert to lowercase and remove common punctuation\n",
    "    return text.lower().replace(',', '').replace('.', '').replace('(', '').replace(')', '').replace('-', ' ')\n",
    "\n",
    "# Function to find and add curated ingredients\n",
    "def add_curated_ingredients(recipe, curated_ingredients_set):\n",
    "    found_ingredients = set()\n",
    "    for ingredient in recipe['ingredients']:\n",
    "        normalized_ingredient = normalize(ingredient)\n",
    "        # Check for the presence of any curated ingredient as a substring of the noisy ingredient\n",
    "        for curated in curated_ingredients_set:\n",
    "            if curated in normalized_ingredient:\n",
    "                found_ingredients.add(curated)\n",
    "    # Add found curated ingredients to the recipe\n",
    "    if found_ingredients:\n",
    "        recipe['curated_ingredients'] = list(found_ingredients)\n",
    "    else:\n",
    "        recipe['curated_ingredients'] = [\"No curated ingredients found\"]\n",
    "\n",
    "# Process each recipe\n",
    "for key, recipe in recipes.items():\n",
    "    add_curated_ingredients(recipe, curated_ingredients_set)\n",
    "\n",
    "# Save the modified recipes back to a new JSON file\n",
    "with open('./updated_recipes_with_curated_ingredients.json', 'w') as file:\n",
    "    json.dump(recipes, file, indent=4)\n",
    "\n",
    "print(\"Recipes have been updated with curated ingredients.\")"
   ]
  },
  {
   "cell_type": "markdown",
   "metadata": {},
   "source": [
    "This part of the notebook replaces in each recipe the list of ingredient names with its corresponding list of ingredient IDs from the mapping"
   ]
  },
  {
   "cell_type": "code",
   "execution_count": null,
   "metadata": {},
   "outputs": [],
   "source": [
    "import json\n",
    "\n",
    "# Load the JSON files\n",
    "with open('./updated_recipes_with_curated_ingredients.json', 'r') as file:\n",
    "    recipes = json.load(file)\n",
    "\n",
    "with open('./ingredient_id_mapping.json', 'r') as file:\n",
    "    ingredient_mapping = json.load(file)\n",
    "\n",
    "# Create a reverse mapping from ingredient name to ID\n",
    "name_to_id = {name.lower(): id for id, name in ingredient_mapping.items()}\n",
    "\n",
    "# Function to replace ingredient names with IDs in a recipe\n",
    "def replace_ingredient_names(ingredients, mapping):\n",
    "    updated_ingredients = []\n",
    "    for ingredient in ingredients:\n",
    "        name = ingredient.strip()\n",
    "        if name in mapping:\n",
    "            updated_ingredients.append(mapping[name])\n",
    "        else:\n",
    "            updated_ingredients.append(name)\n",
    "    return updated_ingredients\n",
    "\n",
    "# Apply the function to all recipes\n",
    "updated_recipes = {}\n",
    "for key, recipe in recipes.items():\n",
    "    recipe['curated_ingredients'] = replace_ingredient_names(recipe['curated_ingredients'], name_to_id)\n",
    "    updated_recipes[key] = recipe\n",
    "\n",
    "# Save the updated recipes to a new JSON file\n",
    "output_path = './updated_recipes_with_ids.json'\n",
    "with open(output_path, 'w') as file:\n",
    "    json.dump(updated_recipes, file, indent=4)\n",
    "\n",
    "# Output the path to the new file\n",
    "output_path"
   ]
  }
 ],
 "metadata": {
  "kernelspec": {
   "display_name": "Python 3",
   "language": "python",
   "name": "python3"
  },
  "language_info": {
   "codemirror_mode": {
    "name": "ipython",
    "version": 3
   },
   "file_extension": ".py",
   "mimetype": "text/x-python",
   "name": "python",
   "nbconvert_exporter": "python",
   "pygments_lexer": "ipython3",
   "version": "3.9.6"
  }
 },
 "nbformat": 4,
 "nbformat_minor": 2
}
