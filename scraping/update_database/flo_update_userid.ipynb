{
 "cells": [
  {
   "cell_type": "code",
   "execution_count": null,
   "metadata": {},
   "outputs": [],
   "source": [
    "import json\n",
    "import firebase_admin\n",
    "from firebase_admin import credentials\n",
    "from firebase_admin import firestore\n",
    "\n",
    "# Initialize Firestore\n",
    "cred = credentials.Certificate('./firebase_credentials.json')\n",
    "# Initialize the app only if it hasn't been initialized yet\n",
    "if not firebase_admin._apps:\n",
    "    firebase_admin.initialize_app(cred)\n",
    "\n",
    "# Firestore Client\n",
    "db = firestore.client()\n",
    "\n",
    "def get_recipe_by_id(recipe_id):\n",
    "    \"\"\"\n",
    "    Function to retrieve a recipe from Firestore by its ID\n",
    "    \"\"\"\n",
    "    try:\n",
    "        recipe_ref = db.collection('recipes').document(recipe_id)\n",
    "        recipe = recipe_ref.get()\n",
    "        if recipe.exists:\n",
    "            return recipe.to_dict()\n",
    "        else:\n",
    "            print(f'No recipe found with ID: {recipe_id}')\n",
    "            return None\n",
    "    except Exception as e:\n",
    "        print(f'An error occurred while retrieving the recipe: {e}')\n",
    "        return None\n",
    "\n",
    "def update_recipe_userid(recipe_id, new_userid):\n",
    "    \"\"\"\n",
    "    Function to update the userid field of a recipe in Firestore\n",
    "    \"\"\"\n",
    "    try:\n",
    "        recipe_ref = db.collection('recipes').document(recipe_id)\n",
    "        recipe_ref.update({'userid': new_userid})\n",
    "        print(f'Recipe {recipe_id} updated with new userid: {new_userid}')\n",
    "    except Exception as e:\n",
    "        print(f'An error occurred while updating the recipe: {e}')\n",
    "\n",
    "# Example usage:\n",
    "# Retrieve a recipe by ID\n",
    "recipe_id_to_retrieve = 'pasta1'\n",
    "new_userid = '9vu1XpyZwrW5hSvEpHuuvcVVgiv2'\n",
    "\n",
    "# Check if the recipe exists\n",
    "recipe = get_recipe_by_id(recipe_id_to_retrieve)\n",
    "\n",
    "if recipe:\n",
    "    # Update the userid field\n",
    "    #update_recipe_userid(recipe_id_to_retrieve, new_userid)\n",
    "    print(recipe)\n",
    "else:\n",
    "    print(f\"Recipe with ID {recipe_id_to_retrieve} does not exist.\")\n"
   ]
  }
 ],
 "metadata": {
  "kernelspec": {
   "display_name": "Python 3",
   "language": "python",
   "name": "python3"
  },
  "language_info": {
   "codemirror_mode": {
    "name": "ipython",
    "version": 3
   },
   "file_extension": ".py",
   "mimetype": "text/x-python",
   "name": "python",
   "nbconvert_exporter": "python",
   "pygments_lexer": "ipython3",
   "version": "3.10.12"
  }
 },
 "nbformat": 4,
 "nbformat_minor": 2
}
