{
 "cells": [
  {
   "cell_type": "code",
   "execution_count": null,
   "metadata": {},
   "outputs": [],
   "source": [
    "import json\n",
    "import firebase_admin\n",
    "from firebase_admin import credentials\n",
    "from firebase_admin import firestore\n",
    "\n",
    "# Initialize Firestore\n",
    "cred = credentials.Certificate('./firebase_credentials.json')\n",
    "# Initialize the app only if it hasn't been initialized yet\n",
    "if not firebase_admin._apps:\n",
    "    firebase_admin.initialize_app(cred)\n",
    "\n",
    "# Firestore Client\n",
    "db = firestore.client()\n",
    "\n",
    "# Path to the formatted recipes JSON file\n",
    "recipes_file = './formatted_recipes_with_descriptions.json'\n",
    "\n",
    "'''\n",
    "A function allowing us to upload a single recipe at a time from the .json file to the Firestore Database\n",
    "'''\n",
    "def upload_recipe(recipe):\n",
    "    # Generate a new document ID for the recipe\n",
    "    recipe_ref = db.collection('recipes').document()\n",
    "    recipe_ref.set({\n",
    "        'recipeId': recipe_ref.id,\n",
    "        'userid': recipe.get('userid', ' '),\n",
    "        'title': recipe.get('title', 'No title provided'),\n",
    "        'level': recipe.get('level', ''),\n",
    "        'yield': recipe.get('yield', ''),\n",
    "        'cooking time': recipe.get('cooking time', ''),\n",
    "        'description': recipe.get('description', ''),\n",
    "        'imageUrl': recipe.get('imageUrl', ''),\n",
    "        'rating': recipe.get('rating', 0),\n",
    "        'tags': recipe.get('tags', []),\n",
    "        'steps': recipe.get('steps', []),\n",
    "        'ingredients': recipe.get('ingredients', [])\n",
    "    \n",
    "    })\n",
    "\n",
    "'''\n",
    "Looping on the .json file and uploading all the recipes it contains using the function defined abovementioned\n",
    "'''\n",
    "with open(recipes_file, 'r') as file:\n",
    "    recipes_data = json.load(file)\n",
    "    recipes_data = list(recipes_data.values())\n",
    "    print(len(recipes_data))\n",
    "    # Iterate over each recipe in the dictionary\n",
    "    for recipe in recipes_data:\n",
    "        #print(recipe)\n",
    "\n",
    "        upload_recipe(recipe)\n",
    "\n",
    "print(\"Recipes uploaded successfully!\")\n"
   ]
  }
 ],
 "metadata": {
  "kernelspec": {
   "display_name": "Python 3",
   "language": "python",
   "name": "python3"
  },
  "language_info": {
   "codemirror_mode": {
    "name": "ipython",
    "version": 3
   },
   "file_extension": ".py",
   "mimetype": "text/x-python",
   "name": "python",
   "nbconvert_exporter": "python",
   "pygments_lexer": "ipython3",
   "version": "3.10.12"
  }
 },
 "nbformat": 4,
 "nbformat_minor": 2
}
